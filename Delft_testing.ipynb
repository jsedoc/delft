{
  "nbformat": 4,
  "nbformat_minor": 0,
  "metadata": {
    "colab": {
      "name": "Delft testing.ipynb",
      "version": "0.3.2",
      "provenance": [],
      "collapsed_sections": [],
      "toc_visible": true,
      "include_colab_link": true
    },
    "kernelspec": {
      "name": "python3",
      "display_name": "Python 3"
    },
    "accelerator": "GPU"
  },
  "cells": [
    {
      "cell_type": "markdown",
      "metadata": {
        "id": "view-in-github",
        "colab_type": "text"
      },
      "source": [
        "[View in Colaboratory](https://colab.research.google.com/github/jsedoc/delft/blob/master/Delft_testing.ipynb)"
      ]
    },
    {
      "metadata": {
        "id": "_DitmHxSszml",
        "colab_type": "code",
        "colab": {
          "base_uri": "https://localhost:8080/",
          "height": 119
        },
        "outputId": "3c8bf7d6-fc5f-4941-8e6c-fcd3d7518f42"
      },
      "cell_type": "code",
      "source": [
        "!git clone https://github.com/jsedoc/delft"
      ],
      "execution_count": 2,
      "outputs": [
        {
          "output_type": "stream",
          "text": [
            "Cloning into 'delft'...\n",
            "remote: Counting objects: 1195, done.\u001b[K\n",
            "remote: Compressing objects: 100% (12/12), done.\u001b[K\n",
            "remote: Total 1195 (delta 5), reused 1 (delta 1), pack-reused 1182\u001b[K\n",
            "Receiving objects: 100% (1195/1195), 274.32 MiB | 33.43 MiB/s, done.\n",
            "Resolving deltas: 100% (722/722), done.\n"
          ],
          "name": "stdout"
        }
      ]
    },
    {
      "metadata": {
        "id": "_vt_OOVYs7GZ",
        "colab_type": "code",
        "colab": {}
      },
      "cell_type": "code",
      "source": [
        "import sys, os\n",
        "sys.path.append(os.path.abspath(os.path.join('delft')))"
      ],
      "execution_count": 0,
      "outputs": []
    },
    {
      "metadata": {
        "id": "jyElB-IBtqm0",
        "colab_type": "code",
        "colab": {}
      },
      "cell_type": "code",
      "source": [
        "#!pip install -q -r delft/requirements.txt\n",
        "!pip install -q -r delft/requirements-gpu.txt"
      ],
      "execution_count": 0,
      "outputs": []
    },
    {
      "metadata": {
        "id": "VWSyFmhXtO02",
        "colab_type": "code",
        "colab": {
          "base_uri": "https://localhost:8080/",
          "height": 88
        },
        "outputId": "4f5d62a7-74cc-4825-f9c5-e81e71b97ab9"
      },
      "cell_type": "code",
      "source": [
        "from delft import *\n",
        "from delft.utilities.Embeddings import *"
      ],
      "execution_count": 2,
      "outputs": [
        {
          "output_type": "stream",
          "text": [
            "/usr/local/lib/python3.6/dist-packages/h5py/__init__.py:36: FutureWarning: Conversion of the second argument of issubdtype from `float` to `np.floating` is deprecated. In future, it will be treated as `np.float64 == np.dtype(float).type`.\n",
            "  from ._conv import register_converters as _register_converters\n",
            "Using TensorFlow backend.\n"
          ],
          "name": "stderr"
        }
      ]
    },
    {
      "metadata": {
        "id": "GjUkryZAv5w-",
        "colab_type": "code",
        "colab": {
          "base_uri": "https://localhost:8080/",
          "height": 700
        },
        "outputId": "96ad09bb-1a62-4183-cca8-210ab6d5f52e"
      },
      "cell_type": "code",
      "source": [
        "!wget http://nlp.stanford.edu/data/glove.840B.300d.zip\n",
        "!unzip glove.840B.300d.zip\n",
        "!wget https://s3-us-west-2.amazonaws.com/allennlp/models/elmo/2x4096_512_2048cnn_2xhighway_5.5B/elmo_2x4096_512_2048cnn_2xhighway_5.5B_options.json\n",
        "!wget https://s3-us-west-2.amazonaws.com/allennlp/models/elmo/2x4096_512_2048cnn_2xhighway_5.5B/elmo_2x4096_512_2048cnn_2xhighway_5.5B_weights.hdf5"
      ],
      "execution_count": 6,
      "outputs": [
        {
          "output_type": "stream",
          "text": [
            "--2018-08-09 02:01:44--  http://nlp.stanford.edu/data/glove.840B.300d.zip\r\n",
            "Resolving nlp.stanford.edu (nlp.stanford.edu)... 171.64.67.140\n",
            "Connecting to nlp.stanford.edu (nlp.stanford.edu)|171.64.67.140|:80... connected.\n",
            "HTTP request sent, awaiting response... 302 Found\n",
            "Location: https://nlp.stanford.edu/data/glove.840B.300d.zip [following]\n",
            "--2018-08-09 02:01:44--  https://nlp.stanford.edu/data/glove.840B.300d.zip\n",
            "Connecting to nlp.stanford.edu (nlp.stanford.edu)|171.64.67.140|:443... connected.\n",
            "HTTP request sent, awaiting response... 200 OK\n",
            "Length: 2176768927 (2.0G) [application/zip]\n",
            "Saving to: ‘glove.840B.300d.zip’\n",
            "\n",
            "glove.840B.300d.zip 100%[===================>]   2.03G  35.8MB/s    in 79s     \n",
            "\n",
            "2018-08-09 02:03:03 (26.4 MB/s) - ‘glove.840B.300d.zip’ saved [2176768927/2176768927]\n",
            "\n",
            "Archive:  glove.840B.300d.zip\n",
            "  inflating: glove.840B.300d.txt     \n",
            "--2018-08-09 02:04:09--  https://s3-us-west-2.amazonaws.com/allennlp/models/elmo/2x4096_512_2048cnn_2xhighway_5.5B/elmo_2x4096_512_2048cnn_2xhighway_5.5B_options.json\n",
            "Resolving s3-us-west-2.amazonaws.com (s3-us-west-2.amazonaws.com)... 52.218.192.208\n",
            "Connecting to s3-us-west-2.amazonaws.com (s3-us-west-2.amazonaws.com)|52.218.192.208|:443... connected.\n",
            "HTTP request sent, awaiting response... 200 OK\n",
            "Length: 336 [application/json]\n",
            "Saving to: ‘elmo_2x4096_512_2048cnn_2xhighway_5.5B_options.json’\n",
            "\n",
            "elmo_2x4096_512_204 100%[===================>]     336  --.-KB/s    in 0s      \n",
            "\n",
            "2018-08-09 02:04:09 (7.11 MB/s) - ‘elmo_2x4096_512_2048cnn_2xhighway_5.5B_options.json’ saved [336/336]\n",
            "\n",
            "--2018-08-09 02:04:10--  https://s3-us-west-2.amazonaws.com/allennlp/models/elmo/2x4096_512_2048cnn_2xhighway_5.5B/elmo_2x4096_512_2048cnn_2xhighway_5.5B_weights.hdf5\n",
            "Resolving s3-us-west-2.amazonaws.com (s3-us-west-2.amazonaws.com)... 52.218.192.208\n",
            "Connecting to s3-us-west-2.amazonaws.com (s3-us-west-2.amazonaws.com)|52.218.192.208|:443... connected.\n",
            "HTTP request sent, awaiting response... 200 OK\n",
            "Length: 374434792 (357M) [binary/octet-stream]\n",
            "Saving to: ‘elmo_2x4096_512_2048cnn_2xhighway_5.5B_weights.hdf5’\n",
            "\n",
            "elmo_2x4096_512_204 100%[===================>] 357.09M  56.5MB/s    in 8.8s    \n",
            "\n",
            "2018-08-09 02:04:20 (40.7 MB/s) - ‘elmo_2x4096_512_2048cnn_2xhighway_5.5B_weights.hdf5’ saved [374434792/374434792]\n",
            "\n"
          ],
          "name": "stdout"
        }
      ]
    },
    {
      "metadata": {
        "id": "XA8yx_g9tSm2",
        "colab_type": "code",
        "colab": {
          "base_uri": "https://localhost:8080/",
          "height": 122
        },
        "outputId": "c7bcebb7-842e-4f76-9d28-61eff6fbf3e4"
      },
      "cell_type": "code",
      "source": [
        "embeddings = Embeddings(\"glove-840B\", use_ELMo=True, path='./delft/embedding-registry.json')"
      ],
      "execution_count": 3,
      "outputs": [
        {
          "output_type": "stream",
          "text": [
            "embedding_lmdb_path is not specified in the embeddings registry, so the embeddings will be loaded in memory...\n",
            "loading embeddings...\n",
            "path: /content/glove.840B.300d.txt\n",
            "embeddings loaded for 2196007 words and 300 dimensions\n",
            "init ELMo\n"
          ],
          "name": "stdout"
        }
      ]
    },
    {
      "metadata": {
        "id": "W_xC3ORb3_Lv",
        "colab_type": "code",
        "colab": {
          "base_uri": "https://localhost:8080/",
          "height": 187
        },
        "outputId": "9dcac2af-7e39-4447-a19d-ea7df6d69def"
      },
      "cell_type": "code",
      "source": [
        "token_list = [['This', 'is', 'a', 'test', '.']]\n",
        "vect = embeddings.get_sentence_vector_with_ELMo(token_list)\n",
        "#embeddings.cache_ELMo_lmdb_vector(token_list, vect)\n",
        "#vect = embeddings.get_sentence_vector_ELMo(token_list)\n",
        "print(vect)"
      ],
      "execution_count": 8,
      "outputs": [
        {
          "output_type": "stream",
          "text": [
            "[[[ 0.10788718  0.10124986  0.07082138 ... -0.030834    0.01602\n",
            "    0.15281   ]\n",
            "  [-0.41208327  0.2014089   0.08620966 ... -0.21511    -0.26304\n",
            "   -0.0060173 ]\n",
            "  [-0.2943753  -0.69890094 -0.16797695 ... -0.30099    -0.14584\n",
            "    0.28188   ]\n",
            "  [ 0.08135369 -0.05005831 -0.30946857 ...  0.14983     0.40104\n",
            "   -0.094301  ]\n",
            "  [ 0.06845887 -0.0280847  -0.12275654 ...  0.13871    -0.36049\n",
            "   -0.035     ]]]\n"
          ],
          "name": "stdout"
        }
      ]
    }
  ]
}